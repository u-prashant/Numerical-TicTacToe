{
 "cells": [
  {
   "cell_type": "code",
   "execution_count": 1,
   "metadata": {},
   "outputs": [],
   "source": [
    "import numpy as np\n",
    "import collections\n",
    "import pickle\n",
    "import random\n",
    "import matplotlib.pyplot as plt\n",
    "from TCGame_Env import TicTacToe\n",
    "%matplotlib inline"
   ]
  },
  {
   "cell_type": "code",
   "execution_count": 2,
   "metadata": {},
   "outputs": [
    {
     "name": "stdout",
     "output_type": "stream",
     "text": [
      "2256944\n"
     ]
    }
   ],
   "source": [
    "with open('Policy.pkl', 'rb') as handle:\n",
    "    Q_dict = pickle.load(handle)\n",
    "\n",
    "print(len(Q_dict))"
   ]
  },
  {
   "cell_type": "code",
   "execution_count": 3,
   "metadata": {},
   "outputs": [],
   "source": [
    "def print_board(state):\n",
    "    l = state.split('-')\n",
    "    print(' {0} | {1} | {2} '.format(l[0],l[1],l[2]))\n",
    "    print('---|---|---')\n",
    "    print(' {0} | {1} | {2} '.format(l[3],l[4],l[5]))\n",
    "    print('---|---|---')\n",
    "    print(' {0} | {1} | {2} '.format(l[6],l[7],l[8]))"
   ]
  },
  {
   "cell_type": "code",
   "execution_count": 4,
   "metadata": {},
   "outputs": [],
   "source": [
    "def Q_state(state):\n",
    "    return ('-'.join(str(e) for e in state)).replace('nan','x')"
   ]
  },
  {
   "cell_type": "code",
   "execution_count": 5,
   "metadata": {},
   "outputs": [
    {
     "data": {
      "text/plain": [
       "'1-2-x-4-5-6-7-8-x'"
      ]
     },
     "execution_count": 5,
     "metadata": {},
     "output_type": "execute_result"
    }
   ],
   "source": [
    "Q_state([1,2,'nan',4,5,6,7,8,'nan'])"
   ]
  },
  {
   "cell_type": "code",
   "execution_count": 9,
   "metadata": {},
   "outputs": [
    {
     "name": "stdout",
     "output_type": "stream",
     "text": [
      " x | x | x \n",
      "---|---|---\n",
      " x | x | x \n",
      "---|---|---\n",
      " x | x | x \n"
     ]
    }
   ],
   "source": [
    "board = TicTacToe()\n",
    "curr_state = board.state\n",
    "curr_state_key = Q_state(curr_state)\n",
    "isTerminal = False\n",
    "print_board(curr_state_key)"
   ]
  },
  {
   "cell_type": "code",
   "execution_count": 10,
   "metadata": {},
   "outputs": [
    {
     "name": "stdout",
     "output_type": "stream",
     "text": [
      " x | 3 | x \n",
      "---|---|---\n",
      " x | x | x \n",
      "---|---|---\n",
      " x | x | x \n"
     ]
    },
    {
     "name": "stdin",
     "output_type": "stream",
     "text": [
      "enter the position:  8\n",
      "enter the number:  8\n"
     ]
    },
    {
     "name": "stdout",
     "output_type": "stream",
     "text": [
      " x | 3 | x \n",
      "---|---|---\n",
      " x | x | x \n",
      "---|---|---\n",
      " x | x | 8 \n",
      "-----------------------------------------\n",
      " x | 3 | 7 \n",
      "---|---|---\n",
      " x | x | x \n",
      "---|---|---\n",
      " x | x | 8 \n"
     ]
    },
    {
     "name": "stdin",
     "output_type": "stream",
     "text": [
      "enter the position:  0\n",
      "enter the number:  4\n"
     ]
    },
    {
     "name": "stdout",
     "output_type": "stream",
     "text": [
      " 4 | 3 | 7 \n",
      "---|---|---\n",
      " x | x | x \n",
      "---|---|---\n",
      " x | x | 8 \n",
      "-----------------------------------------\n",
      " 4 | 3 | 7 \n",
      "---|---|---\n",
      " x | 5 | x \n",
      "---|---|---\n",
      " x | x | 8 \n"
     ]
    },
    {
     "name": "stdin",
     "output_type": "stream",
     "text": [
      "enter the position:  3\n",
      "enter the number:  2\n"
     ]
    },
    {
     "name": "stdout",
     "output_type": "stream",
     "text": [
      " 4 | 3 | 7 \n",
      "---|---|---\n",
      " 2 | 5 | x \n",
      "---|---|---\n",
      " x | x | 8 \n",
      "-----------------------------------------\n",
      " 4 | 3 | 7 \n",
      "---|---|---\n",
      " 2 | 5 | x \n",
      "---|---|---\n",
      " 9 | x | 8 \n",
      "Agent  Win\n"
     ]
    }
   ],
   "source": [
    "while True:\n",
    "        \n",
    "    # Agent MOVE\n",
    "    if curr_state_key in Q_dict.keys():\n",
    "        action = max(Q_dict[curr_state_key],key=Q_dict[curr_state_key].get)\n",
    "        curr_state[action[0]] = action[1]\n",
    "    else:\n",
    "        agent_actions, _ = board.action_space(curr_state)\n",
    "        agent_action = random.choice(list(agent_actions))\n",
    "        curr_state[agent_action[0]] = agent_action[1]\n",
    "    curr_state_key = Q_state(curr_state)\n",
    "    print_board(curr_state_key)\n",
    "    isTerminal, status = board.is_terminal(curr_state)\n",
    "    if isTerminal:\n",
    "        print('Agent ',status)\n",
    "        break\n",
    "        \n",
    "    # Player MOVE\n",
    "    pos = int(input('enter the position: '))\n",
    "    no  = int(input('enter the number: '))\n",
    "    _, env_actions = board.action_space(curr_state)\n",
    "    t1 = (pos, no)\n",
    "    if t1 not in list(env_actions):\n",
    "        print('Failing the game ', t1)\n",
    "        board.reset()\n",
    "        break\n",
    "    curr_state[pos] = no\n",
    "    curr_state_key = Q_state(curr_state)\n",
    "    print_board(curr_state_key)\n",
    "    isTerminal, status = board.is_terminal(curr_state)\n",
    "    if isTerminal:\n",
    "        print('You ',status)\n",
    "        break\n",
    "    print('-----------------------------------------')"
   ]
  },
  {
   "cell_type": "code",
   "execution_count": 25,
   "metadata": {},
   "outputs": [
    {
     "name": "stdout",
     "output_type": "stream",
     "text": [
      "True\n"
     ]
    }
   ],
   "source": [
    "tuple1 = (1,2,3)\n",
    "tuple2 = (1,2,3)\n",
    "l = [(1,2,4),(1,2,3)]\n",
    "print(tuple1 in l)"
   ]
  },
  {
   "cell_type": "code",
   "execution_count": 59,
   "metadata": {},
   "outputs": [
    {
     "name": "stdout",
     "output_type": "stream",
     "text": [
      "7\n",
      "9\n"
     ]
    }
   ],
   "source": [
    "a = (7,9)\n",
    "print(a[0])\n",
    "print(a[1])"
   ]
  },
  {
   "cell_type": "code",
   "execution_count": 7,
   "metadata": {},
   "outputs": [
    {
     "name": "stdout",
     "output_type": "stream",
     "text": [
      " 8 | 2 | x \n",
      "---|---|---\n",
      " 3 | 4 | 5 \n",
      "---|---|---\n",
      " 6 | 7 | 1 \n"
     ]
    }
   ],
   "source": [
    "print_board('8-2-x-3-4-5-6-7-1')"
   ]
  },
  {
   "cell_type": "code",
   "execution_count": null,
   "metadata": {},
   "outputs": [],
   "source": []
  }
 ],
 "metadata": {
  "kernelspec": {
   "display_name": "Python 3",
   "language": "python",
   "name": "python3"
  },
  "language_info": {
   "codemirror_mode": {
    "name": "ipython",
    "version": 3
   },
   "file_extension": ".py",
   "mimetype": "text/x-python",
   "name": "python",
   "nbconvert_exporter": "python",
   "pygments_lexer": "ipython3",
   "version": "3.7.6"
  }
 },
 "nbformat": 4,
 "nbformat_minor": 4
}
